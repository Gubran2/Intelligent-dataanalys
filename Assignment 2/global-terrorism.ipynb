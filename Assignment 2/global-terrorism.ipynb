{
 "cells": [
  {
   "cell_type": "markdown",
   "id": "003ef9fb",
   "metadata": {
    "papermill": {
     "duration": 0.011459,
     "end_time": "2023-12-01T12:22:25.729591",
     "exception": false,
     "start_time": "2023-12-01T12:22:25.718132",
     "status": "completed"
    },
    "tags": []
   },
   "source": [
    "# Global Terrorism"
   ]
  },
  {
   "cell_type": "markdown",
   "id": "e26d320a",
   "metadata": {
    "papermill": {
     "duration": 0.008748,
     "end_time": "2023-12-01T12:22:25.747619",
     "exception": false,
     "start_time": "2023-12-01T12:22:25.738871",
     "status": "completed"
    },
    "tags": []
   },
   "source": [
    "## Students\n",
    "\n",
    "#### Samir Akhalil \n",
    "####  Gubran Alshekh Ali \n",
    "####  Mohamad Omar Dalal"
   ]
  },
  {
   "cell_type": "markdown",
   "id": "33ae09d5",
   "metadata": {
    "papermill": {
     "duration": 0.008797,
     "end_time": "2023-12-01T12:22:25.765417",
     "exception": false,
     "start_time": "2023-12-01T12:22:25.756620",
     "status": "completed"
    },
    "tags": []
   },
   "source": [
    "# Research Quastion"
   ]
  },
  {
   "cell_type": "markdown",
   "id": "0f07ed7a",
   "metadata": {
    "papermill": {
     "duration": 0.008641,
     "end_time": "2023-12-01T12:22:25.782992",
     "exception": false,
     "start_time": "2023-12-01T12:22:25.774351",
     "status": "completed"
    },
    "tags": []
   },
   "source": [
    "### What factors led to the dramatic increase in global terrorist attacks around the year 2000?\n",
    "\n",
    "\n",
    "\n",
    "\n",
    "\n",
    "\n"
   ]
  },
  {
   "cell_type": "markdown",
   "id": "e02c6f8b",
   "metadata": {
    "papermill": {
     "duration": 0.008748,
     "end_time": "2023-12-01T12:22:25.800671",
     "exception": false,
     "start_time": "2023-12-01T12:22:25.791923",
     "status": "completed"
    },
    "tags": []
   },
   "source": [
    "\n",
    "\n",
    "# Hypotheses: "
   ]
  },
  {
   "cell_type": "markdown",
   "id": "636b4fbc",
   "metadata": {
    "papermill": {
     "duration": 0.008834,
     "end_time": "2023-12-01T12:22:25.818589",
     "exception": false,
     "start_time": "2023-12-01T12:22:25.809755",
     "status": "completed"
    },
    "tags": []
   },
   "source": [
    "### The surge in global terrorist attacks around the year 2000 can be attributed to the rise of numerous new terrorist organizations, including ISIS, and the consequences of the Arab Spring. The past few decades have also witnessed a considerable increase in terrorist activities."
   ]
  },
  {
   "cell_type": "markdown",
   "id": "64785c12",
   "metadata": {
    "papermill": {
     "duration": 0.008697,
     "end_time": "2023-12-01T12:22:25.836414",
     "exception": false,
     "start_time": "2023-12-01T12:22:25.827717",
     "status": "completed"
    },
    "tags": []
   },
   "source": [
    "# Importing Libraries "
   ]
  },
  {
   "cell_type": "code",
   "execution_count": 1,
   "id": "51352adc",
   "metadata": {
    "execution": {
     "iopub.execute_input": "2023-12-01T12:22:25.857593Z",
     "iopub.status.busy": "2023-12-01T12:22:25.856702Z",
     "iopub.status.idle": "2023-12-01T12:22:27.711495Z",
     "shell.execute_reply": "2023-12-01T12:22:27.710317Z"
    },
    "papermill": {
     "duration": 1.868867,
     "end_time": "2023-12-01T12:22:27.714605",
     "exception": false,
     "start_time": "2023-12-01T12:22:25.845738",
     "status": "completed"
    },
    "tags": []
   },
   "outputs": [],
   "source": [
    "import pandas as pd\n",
    "import matplotlib.pyplot as plt\n",
    "import numpy as np\n",
    "from scipy.stats import ttest_ind, t"
   ]
  },
  {
   "cell_type": "markdown",
   "id": "355eabe4",
   "metadata": {
    "papermill": {
     "duration": 0.008718,
     "end_time": "2023-12-01T12:22:27.732473",
     "exception": false,
     "start_time": "2023-12-01T12:22:27.723755",
     "status": "completed"
    },
    "tags": []
   },
   "source": [
    "# Importing Data"
   ]
  },
  {
   "cell_type": "code",
   "execution_count": 2,
   "id": "c594fef7",
   "metadata": {
    "execution": {
     "iopub.execute_input": "2023-12-01T12:22:27.753188Z",
     "iopub.status.busy": "2023-12-01T12:22:27.752059Z",
     "iopub.status.idle": "2023-12-01T12:22:28.819084Z",
     "shell.execute_reply": "2023-12-01T12:22:28.817248Z"
    },
    "papermill": {
     "duration": 1.07971,
     "end_time": "2023-12-01T12:22:28.821180",
     "exception": true,
     "start_time": "2023-12-01T12:22:27.741470",
     "status": "failed"
    },
    "tags": []
   },
   "outputs": [
    {
     "ename": "FileNotFoundError",
     "evalue": "[Errno 2] No such file or directory: 'globalterrorismdb_0718dist.csv'",
     "output_type": "error",
     "traceback": [
      "\u001b[0;31m---------------------------------------------------------------------------\u001b[0m",
      "\u001b[0;31mFileNotFoundError\u001b[0m                         Traceback (most recent call last)",
      "Cell \u001b[0;32mIn[2], line 3\u001b[0m\n\u001b[1;32m      1\u001b[0m \u001b[38;5;66;03m# Load the data\u001b[39;00m\n\u001b[0;32m----> 3\u001b[0m df \u001b[38;5;241m=\u001b[39m \u001b[43mpd\u001b[49m\u001b[38;5;241;43m.\u001b[39;49m\u001b[43mread_csv\u001b[49m\u001b[43m(\u001b[49m\u001b[38;5;124;43m'\u001b[39;49m\u001b[38;5;124;43mglobalterrorismdb_0718dist.csv\u001b[39;49m\u001b[38;5;124;43m'\u001b[39;49m\u001b[43m,\u001b[49m\u001b[43m \u001b[49m\u001b[43mencoding\u001b[49m\u001b[38;5;241;43m=\u001b[39;49m\u001b[38;5;124;43m'\u001b[39;49m\u001b[38;5;124;43mISO-8859-1\u001b[39;49m\u001b[38;5;124;43m'\u001b[39;49m\u001b[43m,\u001b[49m\u001b[43m \u001b[49m\u001b[43mlow_memory\u001b[49m\u001b[38;5;241;43m=\u001b[39;49m\u001b[38;5;28;43;01mFalse\u001b[39;49;00m\u001b[43m)\u001b[49m\n\u001b[1;32m      4\u001b[0m df\u001b[38;5;241m.\u001b[39mrename(columns\u001b[38;5;241m=\u001b[39m{\u001b[38;5;124m'\u001b[39m\u001b[38;5;124miyear\u001b[39m\u001b[38;5;124m'\u001b[39m:\u001b[38;5;124m'\u001b[39m\u001b[38;5;124mYear\u001b[39m\u001b[38;5;124m'\u001b[39m,\u001b[38;5;124m'\u001b[39m\u001b[38;5;124mimonth\u001b[39m\u001b[38;5;124m'\u001b[39m:\u001b[38;5;124m'\u001b[39m\u001b[38;5;124mMonth\u001b[39m\u001b[38;5;124m'\u001b[39m,\u001b[38;5;124m'\u001b[39m\u001b[38;5;124miday\u001b[39m\u001b[38;5;124m'\u001b[39m:\u001b[38;5;124m'\u001b[39m\u001b[38;5;124mDay\u001b[39m\u001b[38;5;124m'\u001b[39m,\u001b[38;5;124m'\u001b[39m\u001b[38;5;124mcountry_txt\u001b[39m\u001b[38;5;124m'\u001b[39m:\u001b[38;5;124m'\u001b[39m\u001b[38;5;124mCountry\u001b[39m\u001b[38;5;124m'\u001b[39m,\u001b[38;5;124m'\u001b[39m\u001b[38;5;124mregion_txt\u001b[39m\u001b[38;5;124m'\u001b[39m:\u001b[38;5;124m'\u001b[39m\u001b[38;5;124mRegion\u001b[39m\u001b[38;5;124m'\u001b[39m,\u001b[38;5;124m'\u001b[39m\u001b[38;5;124mattacktype1_txt\u001b[39m\u001b[38;5;124m'\u001b[39m:\u001b[38;5;124m'\u001b[39m\u001b[38;5;124mAttackType\u001b[39m\u001b[38;5;124m'\u001b[39m,\u001b[38;5;124m'\u001b[39m\u001b[38;5;124mtarget1\u001b[39m\u001b[38;5;124m'\u001b[39m:\u001b[38;5;124m'\u001b[39m\u001b[38;5;124mTarget\u001b[39m\u001b[38;5;124m'\u001b[39m,\u001b[38;5;124m'\u001b[39m\u001b[38;5;124mnkill\u001b[39m\u001b[38;5;124m'\u001b[39m:\u001b[38;5;124m'\u001b[39m\u001b[38;5;124mKilled\u001b[39m\u001b[38;5;124m'\u001b[39m,\u001b[38;5;124m'\u001b[39m\u001b[38;5;124mnwound\u001b[39m\u001b[38;5;124m'\u001b[39m:\u001b[38;5;124m'\u001b[39m\u001b[38;5;124mWounded\u001b[39m\u001b[38;5;124m'\u001b[39m,\u001b[38;5;124m'\u001b[39m\u001b[38;5;124mgname\u001b[39m\u001b[38;5;124m'\u001b[39m:\u001b[38;5;124m'\u001b[39m\u001b[38;5;124mGroup\u001b[39m\u001b[38;5;124m'\u001b[39m,\u001b[38;5;124m'\u001b[39m\u001b[38;5;124mtargtype1_txt\u001b[39m\u001b[38;5;124m'\u001b[39m:\u001b[38;5;124m'\u001b[39m\u001b[38;5;124mTarget_type\u001b[39m\u001b[38;5;124m'\u001b[39m,\u001b[38;5;124m'\u001b[39m\u001b[38;5;124mweaptype1_txt\u001b[39m\u001b[38;5;124m'\u001b[39m:\u001b[38;5;124m'\u001b[39m\u001b[38;5;124mWeapon_type\u001b[39m\u001b[38;5;124m'\u001b[39m},inplace\u001b[38;5;241m=\u001b[39m\u001b[38;5;28;01mTrue\u001b[39;00m)\n",
      "File \u001b[0;32m/opt/conda/lib/python3.10/site-packages/pandas/io/parsers/readers.py:912\u001b[0m, in \u001b[0;36mread_csv\u001b[0;34m(filepath_or_buffer, sep, delimiter, header, names, index_col, usecols, dtype, engine, converters, true_values, false_values, skipinitialspace, skiprows, skipfooter, nrows, na_values, keep_default_na, na_filter, verbose, skip_blank_lines, parse_dates, infer_datetime_format, keep_date_col, date_parser, date_format, dayfirst, cache_dates, iterator, chunksize, compression, thousands, decimal, lineterminator, quotechar, quoting, doublequote, escapechar, comment, encoding, encoding_errors, dialect, on_bad_lines, delim_whitespace, low_memory, memory_map, float_precision, storage_options, dtype_backend)\u001b[0m\n\u001b[1;32m    899\u001b[0m kwds_defaults \u001b[38;5;241m=\u001b[39m _refine_defaults_read(\n\u001b[1;32m    900\u001b[0m     dialect,\n\u001b[1;32m    901\u001b[0m     delimiter,\n\u001b[0;32m   (...)\u001b[0m\n\u001b[1;32m    908\u001b[0m     dtype_backend\u001b[38;5;241m=\u001b[39mdtype_backend,\n\u001b[1;32m    909\u001b[0m )\n\u001b[1;32m    910\u001b[0m kwds\u001b[38;5;241m.\u001b[39mupdate(kwds_defaults)\n\u001b[0;32m--> 912\u001b[0m \u001b[38;5;28;01mreturn\u001b[39;00m \u001b[43m_read\u001b[49m\u001b[43m(\u001b[49m\u001b[43mfilepath_or_buffer\u001b[49m\u001b[43m,\u001b[49m\u001b[43m \u001b[49m\u001b[43mkwds\u001b[49m\u001b[43m)\u001b[49m\n",
      "File \u001b[0;32m/opt/conda/lib/python3.10/site-packages/pandas/io/parsers/readers.py:577\u001b[0m, in \u001b[0;36m_read\u001b[0;34m(filepath_or_buffer, kwds)\u001b[0m\n\u001b[1;32m    574\u001b[0m _validate_names(kwds\u001b[38;5;241m.\u001b[39mget(\u001b[38;5;124m\"\u001b[39m\u001b[38;5;124mnames\u001b[39m\u001b[38;5;124m\"\u001b[39m, \u001b[38;5;28;01mNone\u001b[39;00m))\n\u001b[1;32m    576\u001b[0m \u001b[38;5;66;03m# Create the parser.\u001b[39;00m\n\u001b[0;32m--> 577\u001b[0m parser \u001b[38;5;241m=\u001b[39m \u001b[43mTextFileReader\u001b[49m\u001b[43m(\u001b[49m\u001b[43mfilepath_or_buffer\u001b[49m\u001b[43m,\u001b[49m\u001b[43m \u001b[49m\u001b[38;5;241;43m*\u001b[39;49m\u001b[38;5;241;43m*\u001b[39;49m\u001b[43mkwds\u001b[49m\u001b[43m)\u001b[49m\n\u001b[1;32m    579\u001b[0m \u001b[38;5;28;01mif\u001b[39;00m chunksize \u001b[38;5;129;01mor\u001b[39;00m iterator:\n\u001b[1;32m    580\u001b[0m     \u001b[38;5;28;01mreturn\u001b[39;00m parser\n",
      "File \u001b[0;32m/opt/conda/lib/python3.10/site-packages/pandas/io/parsers/readers.py:1407\u001b[0m, in \u001b[0;36mTextFileReader.__init__\u001b[0;34m(self, f, engine, **kwds)\u001b[0m\n\u001b[1;32m   1404\u001b[0m     \u001b[38;5;28mself\u001b[39m\u001b[38;5;241m.\u001b[39moptions[\u001b[38;5;124m\"\u001b[39m\u001b[38;5;124mhas_index_names\u001b[39m\u001b[38;5;124m\"\u001b[39m] \u001b[38;5;241m=\u001b[39m kwds[\u001b[38;5;124m\"\u001b[39m\u001b[38;5;124mhas_index_names\u001b[39m\u001b[38;5;124m\"\u001b[39m]\n\u001b[1;32m   1406\u001b[0m \u001b[38;5;28mself\u001b[39m\u001b[38;5;241m.\u001b[39mhandles: IOHandles \u001b[38;5;241m|\u001b[39m \u001b[38;5;28;01mNone\u001b[39;00m \u001b[38;5;241m=\u001b[39m \u001b[38;5;28;01mNone\u001b[39;00m\n\u001b[0;32m-> 1407\u001b[0m \u001b[38;5;28mself\u001b[39m\u001b[38;5;241m.\u001b[39m_engine \u001b[38;5;241m=\u001b[39m \u001b[38;5;28;43mself\u001b[39;49m\u001b[38;5;241;43m.\u001b[39;49m\u001b[43m_make_engine\u001b[49m\u001b[43m(\u001b[49m\u001b[43mf\u001b[49m\u001b[43m,\u001b[49m\u001b[43m \u001b[49m\u001b[38;5;28;43mself\u001b[39;49m\u001b[38;5;241;43m.\u001b[39;49m\u001b[43mengine\u001b[49m\u001b[43m)\u001b[49m\n",
      "File \u001b[0;32m/opt/conda/lib/python3.10/site-packages/pandas/io/parsers/readers.py:1661\u001b[0m, in \u001b[0;36mTextFileReader._make_engine\u001b[0;34m(self, f, engine)\u001b[0m\n\u001b[1;32m   1659\u001b[0m     \u001b[38;5;28;01mif\u001b[39;00m \u001b[38;5;124m\"\u001b[39m\u001b[38;5;124mb\u001b[39m\u001b[38;5;124m\"\u001b[39m \u001b[38;5;129;01mnot\u001b[39;00m \u001b[38;5;129;01min\u001b[39;00m mode:\n\u001b[1;32m   1660\u001b[0m         mode \u001b[38;5;241m+\u001b[39m\u001b[38;5;241m=\u001b[39m \u001b[38;5;124m\"\u001b[39m\u001b[38;5;124mb\u001b[39m\u001b[38;5;124m\"\u001b[39m\n\u001b[0;32m-> 1661\u001b[0m \u001b[38;5;28mself\u001b[39m\u001b[38;5;241m.\u001b[39mhandles \u001b[38;5;241m=\u001b[39m \u001b[43mget_handle\u001b[49m\u001b[43m(\u001b[49m\n\u001b[1;32m   1662\u001b[0m \u001b[43m    \u001b[49m\u001b[43mf\u001b[49m\u001b[43m,\u001b[49m\n\u001b[1;32m   1663\u001b[0m \u001b[43m    \u001b[49m\u001b[43mmode\u001b[49m\u001b[43m,\u001b[49m\n\u001b[1;32m   1664\u001b[0m \u001b[43m    \u001b[49m\u001b[43mencoding\u001b[49m\u001b[38;5;241;43m=\u001b[39;49m\u001b[38;5;28;43mself\u001b[39;49m\u001b[38;5;241;43m.\u001b[39;49m\u001b[43moptions\u001b[49m\u001b[38;5;241;43m.\u001b[39;49m\u001b[43mget\u001b[49m\u001b[43m(\u001b[49m\u001b[38;5;124;43m\"\u001b[39;49m\u001b[38;5;124;43mencoding\u001b[39;49m\u001b[38;5;124;43m\"\u001b[39;49m\u001b[43m,\u001b[49m\u001b[43m \u001b[49m\u001b[38;5;28;43;01mNone\u001b[39;49;00m\u001b[43m)\u001b[49m\u001b[43m,\u001b[49m\n\u001b[1;32m   1665\u001b[0m \u001b[43m    \u001b[49m\u001b[43mcompression\u001b[49m\u001b[38;5;241;43m=\u001b[39;49m\u001b[38;5;28;43mself\u001b[39;49m\u001b[38;5;241;43m.\u001b[39;49m\u001b[43moptions\u001b[49m\u001b[38;5;241;43m.\u001b[39;49m\u001b[43mget\u001b[49m\u001b[43m(\u001b[49m\u001b[38;5;124;43m\"\u001b[39;49m\u001b[38;5;124;43mcompression\u001b[39;49m\u001b[38;5;124;43m\"\u001b[39;49m\u001b[43m,\u001b[49m\u001b[43m \u001b[49m\u001b[38;5;28;43;01mNone\u001b[39;49;00m\u001b[43m)\u001b[49m\u001b[43m,\u001b[49m\n\u001b[1;32m   1666\u001b[0m \u001b[43m    \u001b[49m\u001b[43mmemory_map\u001b[49m\u001b[38;5;241;43m=\u001b[39;49m\u001b[38;5;28;43mself\u001b[39;49m\u001b[38;5;241;43m.\u001b[39;49m\u001b[43moptions\u001b[49m\u001b[38;5;241;43m.\u001b[39;49m\u001b[43mget\u001b[49m\u001b[43m(\u001b[49m\u001b[38;5;124;43m\"\u001b[39;49m\u001b[38;5;124;43mmemory_map\u001b[39;49m\u001b[38;5;124;43m\"\u001b[39;49m\u001b[43m,\u001b[49m\u001b[43m \u001b[49m\u001b[38;5;28;43;01mFalse\u001b[39;49;00m\u001b[43m)\u001b[49m\u001b[43m,\u001b[49m\n\u001b[1;32m   1667\u001b[0m \u001b[43m    \u001b[49m\u001b[43mis_text\u001b[49m\u001b[38;5;241;43m=\u001b[39;49m\u001b[43mis_text\u001b[49m\u001b[43m,\u001b[49m\n\u001b[1;32m   1668\u001b[0m \u001b[43m    \u001b[49m\u001b[43merrors\u001b[49m\u001b[38;5;241;43m=\u001b[39;49m\u001b[38;5;28;43mself\u001b[39;49m\u001b[38;5;241;43m.\u001b[39;49m\u001b[43moptions\u001b[49m\u001b[38;5;241;43m.\u001b[39;49m\u001b[43mget\u001b[49m\u001b[43m(\u001b[49m\u001b[38;5;124;43m\"\u001b[39;49m\u001b[38;5;124;43mencoding_errors\u001b[39;49m\u001b[38;5;124;43m\"\u001b[39;49m\u001b[43m,\u001b[49m\u001b[43m \u001b[49m\u001b[38;5;124;43m\"\u001b[39;49m\u001b[38;5;124;43mstrict\u001b[39;49m\u001b[38;5;124;43m\"\u001b[39;49m\u001b[43m)\u001b[49m\u001b[43m,\u001b[49m\n\u001b[1;32m   1669\u001b[0m \u001b[43m    \u001b[49m\u001b[43mstorage_options\u001b[49m\u001b[38;5;241;43m=\u001b[39;49m\u001b[38;5;28;43mself\u001b[39;49m\u001b[38;5;241;43m.\u001b[39;49m\u001b[43moptions\u001b[49m\u001b[38;5;241;43m.\u001b[39;49m\u001b[43mget\u001b[49m\u001b[43m(\u001b[49m\u001b[38;5;124;43m\"\u001b[39;49m\u001b[38;5;124;43mstorage_options\u001b[39;49m\u001b[38;5;124;43m\"\u001b[39;49m\u001b[43m,\u001b[49m\u001b[43m \u001b[49m\u001b[38;5;28;43;01mNone\u001b[39;49;00m\u001b[43m)\u001b[49m\u001b[43m,\u001b[49m\n\u001b[1;32m   1670\u001b[0m \u001b[43m\u001b[49m\u001b[43m)\u001b[49m\n\u001b[1;32m   1671\u001b[0m \u001b[38;5;28;01massert\u001b[39;00m \u001b[38;5;28mself\u001b[39m\u001b[38;5;241m.\u001b[39mhandles \u001b[38;5;129;01mis\u001b[39;00m \u001b[38;5;129;01mnot\u001b[39;00m \u001b[38;5;28;01mNone\u001b[39;00m\n\u001b[1;32m   1672\u001b[0m f \u001b[38;5;241m=\u001b[39m \u001b[38;5;28mself\u001b[39m\u001b[38;5;241m.\u001b[39mhandles\u001b[38;5;241m.\u001b[39mhandle\n",
      "File \u001b[0;32m/opt/conda/lib/python3.10/site-packages/pandas/io/common.py:859\u001b[0m, in \u001b[0;36mget_handle\u001b[0;34m(path_or_buf, mode, encoding, compression, memory_map, is_text, errors, storage_options)\u001b[0m\n\u001b[1;32m    854\u001b[0m \u001b[38;5;28;01melif\u001b[39;00m \u001b[38;5;28misinstance\u001b[39m(handle, \u001b[38;5;28mstr\u001b[39m):\n\u001b[1;32m    855\u001b[0m     \u001b[38;5;66;03m# Check whether the filename is to be opened in binary mode.\u001b[39;00m\n\u001b[1;32m    856\u001b[0m     \u001b[38;5;66;03m# Binary mode does not support 'encoding' and 'newline'.\u001b[39;00m\n\u001b[1;32m    857\u001b[0m     \u001b[38;5;28;01mif\u001b[39;00m ioargs\u001b[38;5;241m.\u001b[39mencoding \u001b[38;5;129;01mand\u001b[39;00m \u001b[38;5;124m\"\u001b[39m\u001b[38;5;124mb\u001b[39m\u001b[38;5;124m\"\u001b[39m \u001b[38;5;129;01mnot\u001b[39;00m \u001b[38;5;129;01min\u001b[39;00m ioargs\u001b[38;5;241m.\u001b[39mmode:\n\u001b[1;32m    858\u001b[0m         \u001b[38;5;66;03m# Encoding\u001b[39;00m\n\u001b[0;32m--> 859\u001b[0m         handle \u001b[38;5;241m=\u001b[39m \u001b[38;5;28;43mopen\u001b[39;49m\u001b[43m(\u001b[49m\n\u001b[1;32m    860\u001b[0m \u001b[43m            \u001b[49m\u001b[43mhandle\u001b[49m\u001b[43m,\u001b[49m\n\u001b[1;32m    861\u001b[0m \u001b[43m            \u001b[49m\u001b[43mioargs\u001b[49m\u001b[38;5;241;43m.\u001b[39;49m\u001b[43mmode\u001b[49m\u001b[43m,\u001b[49m\n\u001b[1;32m    862\u001b[0m \u001b[43m            \u001b[49m\u001b[43mencoding\u001b[49m\u001b[38;5;241;43m=\u001b[39;49m\u001b[43mioargs\u001b[49m\u001b[38;5;241;43m.\u001b[39;49m\u001b[43mencoding\u001b[49m\u001b[43m,\u001b[49m\n\u001b[1;32m    863\u001b[0m \u001b[43m            \u001b[49m\u001b[43merrors\u001b[49m\u001b[38;5;241;43m=\u001b[39;49m\u001b[43merrors\u001b[49m\u001b[43m,\u001b[49m\n\u001b[1;32m    864\u001b[0m \u001b[43m            \u001b[49m\u001b[43mnewline\u001b[49m\u001b[38;5;241;43m=\u001b[39;49m\u001b[38;5;124;43m\"\u001b[39;49m\u001b[38;5;124;43m\"\u001b[39;49m\u001b[43m,\u001b[49m\n\u001b[1;32m    865\u001b[0m \u001b[43m        \u001b[49m\u001b[43m)\u001b[49m\n\u001b[1;32m    866\u001b[0m     \u001b[38;5;28;01melse\u001b[39;00m:\n\u001b[1;32m    867\u001b[0m         \u001b[38;5;66;03m# Binary mode\u001b[39;00m\n\u001b[1;32m    868\u001b[0m         handle \u001b[38;5;241m=\u001b[39m \u001b[38;5;28mopen\u001b[39m(handle, ioargs\u001b[38;5;241m.\u001b[39mmode)\n",
      "\u001b[0;31mFileNotFoundError\u001b[0m: [Errno 2] No such file or directory: 'globalterrorismdb_0718dist.csv'"
     ]
    }
   ],
   "source": [
    "# Load the data\n",
    "\n",
    "df = pd.read_csv('globalterrorismdb_0718dist.csv', encoding='ISO-8859-1', low_memory=False)\n",
    "df.rename(columns={'iyear':'Year','imonth':'Month','iday':'Day','country_txt':'Country','region_txt':'Region','attacktype1_txt':'AttackType','target1':'Target','nkill':'Killed','nwound':'Wounded','gname':'Group','targtype1_txt':'Target_type','weaptype1_txt':'Weapon_type'},inplace=True)\n"
   ]
  },
  {
   "cell_type": "code",
   "execution_count": null,
   "id": "ccadadd0",
   "metadata": {
    "papermill": {
     "duration": null,
     "end_time": null,
     "exception": null,
     "start_time": null,
     "status": "pending"
    },
    "tags": []
   },
   "outputs": [],
   "source": [
    "# Display the first few rows to understand the data structure\n",
    "\n",
    "df.head()"
   ]
  },
  {
   "cell_type": "markdown",
   "id": "fce28e8d",
   "metadata": {
    "papermill": {
     "duration": null,
     "end_time": null,
     "exception": null,
     "start_time": null,
     "status": "pending"
    },
    "tags": []
   },
   "source": [
    "## Data Exploration and Summary"
   ]
  },
  {
   "cell_type": "code",
   "execution_count": null,
   "id": "6b22defe",
   "metadata": {
    "papermill": {
     "duration": null,
     "end_time": null,
     "exception": null,
     "start_time": null,
     "status": "pending"
    },
    "tags": []
   },
   "outputs": [],
   "source": [
    "# Check the shape of the dataframe:\n",
    "df.shape"
   ]
  },
  {
   "cell_type": "code",
   "execution_count": null,
   "id": "60fa4e98",
   "metadata": {
    "papermill": {
     "duration": null,
     "end_time": null,
     "exception": null,
     "start_time": null,
     "status": "pending"
    },
    "tags": []
   },
   "outputs": [],
   "source": [
    "# Generate descriptive statistics of the dataframe\n",
    "data.describe()"
   ]
  },
  {
   "cell_type": "code",
   "execution_count": null,
   "id": "4a17e7ad",
   "metadata": {
    "papermill": {
     "duration": null,
     "end_time": null,
     "exception": null,
     "start_time": null,
     "status": "pending"
    },
    "tags": []
   },
   "outputs": [],
   "source": [
    "# Check the data types of each column\n",
    "df.dtypes"
   ]
  },
  {
   "cell_type": "code",
   "execution_count": null,
   "id": "1505c0f6",
   "metadata": {
    "papermill": {
     "duration": null,
     "end_time": null,
     "exception": null,
     "start_time": null,
     "status": "pending"
    },
    "tags": []
   },
   "outputs": [],
   "source": [
    "# Check for missing values\n",
    "df.isnull().sum()"
   ]
  },
  {
   "cell_type": "markdown",
   "id": "b43ee6f9",
   "metadata": {
    "papermill": {
     "duration": null,
     "end_time": null,
     "exception": null,
     "start_time": null,
     "status": "pending"
    },
    "tags": []
   },
   "source": [
    "# 1.Formulating the research question:\n",
    "## What is the relationship between the number of terrorist attacks across time?"
   ]
  },
  {
   "cell_type": "code",
   "execution_count": null,
   "id": "78b511d5",
   "metadata": {
    "papermill": {
     "duration": null,
     "end_time": null,
     "exception": null,
     "start_time": null,
     "status": "pending"
    },
    "tags": []
   },
   "outputs": [],
   "source": [
    "# Count the number of occurrences for each year in the 'Year' column of the DataFrame\n",
    "# Then, sort these counts by the index (which is the year in this case)\n",
    "\n",
    "year_counts = df['Year'].value_counts().sort_index()\n",
    "\n",
    "# Convert the year (currently an integer) to a datetime format for better handling in plot\n",
    "# The format parameter '%Y' specifies that the year is a four-digit number\n",
    "year_counts.index = pd.to_datetime(year_counts.index, format='%Y')\n",
    "\n",
    "# Plot the number of terrorist attacks over the years\n",
    "# year_counts.index gives the years (x-axis)\n",
    "# year_counts.values gives the corresponding number of attacks (y-axis)\n",
    "plt.plot(year_counts.index, year_counts.values)\n",
    "\n",
    "# Set the title of the plot\n",
    "plt.title('Number of Terrorist Attacks by Year')\n",
    "\n",
    "# Label the x-axis as 'Year'\n",
    "plt.xlabel('Year')\n",
    "\n",
    "# Label the y-axis as 'Number of Attacks'\n",
    "plt.ylabel('Number of Attacks')\n",
    "\n",
    "# Display the plot\n",
    "plt.show()  \n"
   ]
  },
  {
   "cell_type": "markdown",
   "id": "abe761ba",
   "metadata": {
    "papermill": {
     "duration": null,
     "end_time": null,
     "exception": null,
     "start_time": null,
     "status": "pending"
    },
    "tags": []
   },
   "source": [
    "# 2. Based on the identified correlation, we will investigate the frequency of terrorist attacks across various regions over time.\n",
    "### This analysis will offer a more profound insight into the factors that led to a notable increase in correlation after 2005, the regions that endured a significant surge in attacks, and the overall extent of regions impacted by this escalation."
   ]
  },
  {
   "cell_type": "code",
   "execution_count": null,
   "id": "7cf4c37d",
   "metadata": {
    "papermill": {
     "duration": null,
     "end_time": null,
     "exception": null,
     "start_time": null,
     "status": "pending"
    },
    "tags": []
   },
   "outputs": [],
   "source": [
    "import matplotlib.pyplot as plt\n",
    "import numpy as np\n",
    "\n",
    "# Group the DataFrame by 'Region' and 'Year', and count the number of rows for each group,\n",
    "# reset the index (which becomes a MultiIndex after grouping), and select the relevant columns.\n",
    "# The 'eventid' column is used to represent the number of attacks.\n",
    "data_1 = df.groupby(['Region', 'Year']).count().reset_index()[['Region', 'Year', 'eventid']]\n",
    "\n",
    "# Create a subplot with specified figure size\n",
    "fig, ax = plt.subplots(figsize=(25, 15))\n",
    "\n",
    "# Create an empty list to store the legend handles\n",
    "legend_handles = []\n",
    "\n",
    "# Loop through each unique region in the DataFrame\n",
    "for i, region in enumerate(df['Region'].unique()):\n",
    "    # Select rows corresponding to the current region\n",
    "    data = data_1[data_1['Region'] == region]\n",
    "    # Check if the data for this region is not empty before plotting\n",
    "    if not data.empty:  \n",
    "        # Create a scatter plot with year on the x-axis, region on the y-axis, \n",
    "        # and number of attacks determining the size of the markers\n",
    "        scatter = ax.scatter(data['Year'], data['Region'], s=data['eventid'], label=region, alpha=0.8, edgecolors='black', marker='o')\n",
    "        # Add a legend handle for this region\n",
    "        legend_handles.append(scatter)\n",
    "\n",
    "# Add a legend with the handles and labels\n",
    "ax.legend(handles=legend_handles, labels=df['Region'].unique(), loc='best', fontsize=14)\n",
    "\n",
    "\n",
    "# Set the title of the plot\n",
    "ax.set_title(\"Global Terrorism Attacks by Region (1970-2020)\", fontsize=20, fontweight='bold')\n",
    "# Set the labels for the x and y axes\n",
    "ax.set_xlabel(\"Year\", fontsize=16, fontweight='bold')\n",
    "ax.set_ylabel(\"Region\", fontsize=16, fontweight='bold')\n",
    "# Set the parameters for the tick marks\n",
    "ax.tick_params(axis='both', which='major', labelsize=14)\n",
    "\n",
    "# Set the gridlines\n",
    "ax.grid(True, linestyle='--', linewidth=0.5, color='gray', alpha=0.5)\n",
    "\n",
    "# Get the handles and labels from the legend\n",
    "handles, labels = ax.get_legend_handles_labels()\n",
    "# Keep only unique labels\n",
    "unique_labels = np.unique(labels)\n",
    "# Get the handles corresponding to the unique labels\n",
    "handles = [handles[np.where(labels == label)[0][0]] for label in unique_labels]\n",
    "# Add a legend with the handles and unique labels, located at the best position\n",
    "ax.legend(handles, unique_labels, loc='best', fontsize=14)\n",
    "\n",
    "# Set the scales for the x and y axes\n",
    "ax.set_yscale('log')\n",
    "ax.set_xscale('log')\n",
    "# Set the limits for the y and x axes\n",
    "ax.set_ylim(0.5, 1e5)\n",
    "ax.set_xlim(1969, 2021)\n",
    "\n",
    "# Display the plot\n",
    "plt.show()\n"
   ]
  },
  {
   "cell_type": "markdown",
   "id": "00a4f342",
   "metadata": {
    "papermill": {
     "duration": null,
     "end_time": null,
     "exception": null,
     "start_time": null,
     "status": "pending"
    },
    "tags": []
   },
   "source": [
    "#### Upon analyzing the above graph, it's clear that the number of terrorist attacks surged significantly after the year 2005 in several regions. Specifically, five out of the 12 regions globally witnessed substantial escalations. The most pronounced increases occurred in the Middle East and North Africa."
   ]
  },
  {
   "cell_type": "markdown",
   "id": "ff33d6a1",
   "metadata": {
    "papermill": {
     "duration": null,
     "end_time": null,
     "exception": null,
     "start_time": null,
     "status": "pending"
    },
    "tags": []
   },
   "source": [
    "# 3.To test our hypothesis, we will begin by examining the number of attacks carried out by each terrorist group.\n",
    "\n",
    "### By gaining a deeper understanding of which groups are responsible for the majority of terrorist attacks around the world, we can draw conclusions as to why different regions experienced an increase in the number of attacks. This will involve researching the history of each group, including when they were formed and where they operate, in order to better understand their motivations and strategies."
   ]
  },
  {
   "cell_type": "code",
   "execution_count": null,
   "id": "d95be42a",
   "metadata": {
    "papermill": {
     "duration": null,
     "end_time": null,
     "exception": null,
     "start_time": null,
     "status": "pending"
    },
    "tags": []
   },
   "outputs": [],
   "source": [
    "# Count the number of occurrences for each group in the 'Group' column of the DataFrame,\n",
    "# then select the top 10 groups with the highest counts\n",
    "top_groups = df['Group'].value_counts().head(10)\n",
    "\n",
    "# Create a bar chart where the x-axis represents the group names and the y-axis represents the number of attacks\n",
    "plt.bar(top_groups.index, top_groups.values)\n",
    "\n",
    "# Set the title of the plot\n",
    "plt.title('Top 10 Terrorist Groups by Frequency of Attacks')\n",
    "\n",
    "# Set the labels for the x and y axes\n",
    "plt.xlabel('Group Name')\n",
    "plt.ylabel('Number of Attacks')\n",
    "\n",
    "# Rotate the x-axis labels (group names) by 90 degrees to prevent overlap\n",
    "plt.xticks(rotation=90)\n",
    "\n",
    "# Display the plot\n",
    "plt.show()  \n"
   ]
  },
  {
   "cell_type": "markdown",
   "id": "b7e19b18",
   "metadata": {
    "papermill": {
     "duration": null,
     "end_time": null,
     "exception": null,
     "start_time": null,
     "status": "pending"
    },
    "tags": []
   },
   "source": [
    "#### Based on the paragraph above, it is evident that out of the top 10 terrorist groups in terms of the number of attacks, unknown groups carried out the most attacks. Following closely behind were the Taliban and the Islamic State of Iraq, which helps explain why the increase in terrorist attacks was most dramatic in the Middle East and South Asia."
   ]
  },
  {
   "cell_type": "markdown",
   "id": "597e336a",
   "metadata": {
    "papermill": {
     "duration": null,
     "end_time": null,
     "exception": null,
     "start_time": null,
     "status": "pending"
    },
    "tags": []
   },
   "source": [
    "# 4. Let's take a closer look at the regions where these terrorist groups are carrying out the most number of attacks.\n",
    "\n",
    "## This graph will provide further explanation of where these unknown groups are performing attacks."
   ]
  },
  {
   "cell_type": "code",
   "execution_count": null,
   "id": "ceb82b40",
   "metadata": {
    "papermill": {
     "duration": null,
     "end_time": null,
     "exception": null,
     "start_time": null,
     "status": "pending"
    },
    "tags": []
   },
   "outputs": [],
   "source": [
    "# Group the DataFrame by 'Group' and get the size of each group, then select the top 20 groups with the largest sizes\n",
    "top_groups = df.groupby('Group').size().nlargest(20)\n",
    "\n",
    "# Select rows in the DataFrame where the group is one of the top 20 groups\n",
    "data_top = df[df['Group'].isin(top_groups.index)]\n",
    "\n",
    "# Group the selected data by 'Region' and 'Group', get the size of each group, and reshape the data so that each group becomes a column\n",
    "grouped_data = data_top.groupby(['Region', 'Group']).size().unstack()\n",
    "\n",
    "# Create a subplot with a specified figure size\n",
    "fig, ax = plt.subplots(figsize=(10, 8))\n",
    "\n",
    "# Create a stacked bar chart of the grouped data\n",
    "grouped_data.plot(kind='bar', stacked=True, ax=ax)\n",
    "\n",
    "# Set the labels for the x and y axes\n",
    "ax.set_xlabel('Region')\n",
    "ax.set_ylabel('Number of Attacks')\n",
    "\n",
    "# Add a legend with a title, and position it outside the plot on the upper left\n",
    "ax.legend(title='Group', bbox_to_anchor=(1.05, 1), loc='upper left')\n",
    "\n",
    "# Display the plot\n",
    "plt.show()  \n"
   ]
  },
  {
   "cell_type": "markdown",
   "id": "93aefb44",
   "metadata": {
    "papermill": {
     "duration": null,
     "end_time": null,
     "exception": null,
     "start_time": null,
     "status": "pending"
    },
    "tags": []
   },
   "source": [
    "### Further supporting our hypotheses, it is evident that the majority of attacks carried out by unknown terrorist groups were in the Middle East and South Asia. The emergence of new terrorist groups, such as ISIS, and the Arab Spring played a significant role in the dramatic increase in attacks in the Middle East and North Africa."
   ]
  },
  {
   "cell_type": "markdown",
   "id": "64ebd4b2",
   "metadata": {
    "papermill": {
     "duration": null,
     "end_time": null,
     "exception": null,
     "start_time": null,
     "status": "pending"
    },
    "tags": []
   },
   "source": [
    "# 5. Let's now delve deeper into the Arab Spring, which is a significant factor in our hypothesis.\n",
    "\n",
    "\n",
    "### The following paragraph will display the number of attacks in some countries affected by the Arab Spring, from the year 2000 before the Arab Spring began, up until 2020."
   ]
  },
  {
   "cell_type": "code",
   "execution_count": null,
   "id": "23563dd3",
   "metadata": {
    "papermill": {
     "duration": null,
     "end_time": null,
     "exception": null,
     "start_time": null,
     "status": "pending"
    },
    "tags": []
   },
   "outputs": [],
   "source": [
    "# Select rows in the DataFrame where the year is greater than 2000\n",
    "df_2 = df.loc[df['Year'] > 2000]\n",
    "\n",
    "# Define a list of countries of interest\n",
    "countries = ['Tunisia', 'Jordan', 'Saudi Arabia', 'Egypt', 'Syria', 'Yemen', 'Sudan', 'Iraq', 'Libya']\n",
    "\n",
    "# Create subplots with 3 rows and 3 columns, and a specified figure size\n",
    "fig, axes = plt.subplots(nrows=3, ncols=3, figsize=(16, 12))\n",
    "\n",
    "# Loop through each country in the list\n",
    "for i, country in enumerate(countries):\n",
    "    # Select rows in the DataFrame where the country is the current country\n",
    "    country_attacks = df_2.loc[df_2['Country'] == country]\n",
    "\n",
    "    # Group the selected data by year and count the number of attacks\n",
    "    attacks_by_year = country_attacks.groupby('Year')['eventid'].count()\n",
    "\n",
    "    # Determine the position of the subplot for the current country\n",
    "    row, col = i // 3, i % 3\n",
    "    ax = axes[row, col]\n",
    "\n",
    "    # Create a bar chart of the number of attacks by year\n",
    "    attacks_by_year.plot(kind='bar', ax=ax, title=f'Number of attacks in {country} by year')\n",
    "\n",
    "    # Set the labels for the x and y axes\n",
    "    ax.set_xlabel('Year')\n",
    "    ax.set_ylabel('Num Of Attacks')\n",
    "\n",
    "# Adjust the layout so that the subplots do not overlap\n",
    "fig.tight_layout()\n",
    "\n",
    "# Display the plot\n",
    "plt.show()  \n"
   ]
  },
  {
   "cell_type": "markdown",
   "id": "cd028fad",
   "metadata": {
    "papermill": {
     "duration": null,
     "end_time": null,
     "exception": null,
     "start_time": null,
     "status": "pending"
    },
    "tags": []
   },
   "source": [
    "#### The charts presented above reveal a striking surge in terrorist attacks in most countries affected by the Arab Spring that began around 2010. This unequivocally highlights the consequential impact that the Arab Spring had on the worldwide increase in acts of terrorism."
   ]
  },
  {
   "cell_type": "markdown",
   "id": "ad338338",
   "metadata": {
    "papermill": {
     "duration": null,
     "end_time": null,
     "exception": null,
     "start_time": null,
     "status": "pending"
    },
    "tags": []
   },
   "source": [
    "# 6.1.The following section presents a statistical analysis of a multi-national study aimed at discerning if there is a substantial difference in the number of terrorist attacks between the United States and Iraq."
   ]
  },
  {
   "cell_type": "code",
   "execution_count": null,
   "id": "04c4123a",
   "metadata": {
    "papermill": {
     "duration": null,
     "end_time": null,
     "exception": null,
     "start_time": null,
     "status": "pending"
    },
    "scrolled": true,
    "tags": []
   },
   "outputs": [],
   "source": [
    "# Load the data\n",
    "\n",
    "df = pd.read_csv('globalterrorismdb_0718dist.csv', encoding='ISO-8859-1', low_memory=False)\n",
    "df.rename(columns={'iyear':'Year','imonth':'Month','iday':'Day','country_txt':'Country','region_txt':'Region','attacktype1_txt':'AttackType','target1':'Target','nkill':'Killed','nwound':'Wounded','gname':'Group','targtype1_txt':'Target_type','weaptype1_txt':'Weapon_type'},inplace=True)\n",
    "\n",
    "# Select the data for a specific country, 'United States', for the column 'Year'\n",
    "country1 = 'United States'\n",
    "data1 = df.loc[df['Country'] == country1, 'Year']\n",
    "\n",
    "# Select the data for a specific country, 'Iraq', for the column 'Year'\n",
    "country2 = 'Iraq'\n",
    "data2 = df.loc[df['Country'] == country2, 'Year']\n",
    "\n",
    "# Set the significance level for the hypothesis testing\n",
    "alpha = 0.05\n",
    "\n",
    "# Formulate the null and alternative hypotheses\n",
    "null_hypothesis = 'There is no significant difference in the number of terrorism attacks between {} and {}'.format(country1, country2)\n",
    "alternative_hypothesis = 'There is a significant difference in the number of terrorism attacks between {} and {}'.format(country1, country2)\n",
    "\n",
    "# Calculate the mean, standard deviation, and number of data points for both countries\n",
    "mean1 = data1.mean()\n",
    "std1 = data1.std()\n",
    "n1 = len(data1)\n",
    "mean2 = data2.mean()\n",
    "std2 = data2.std()\n",
    "n2 = len(data2)\n",
    "\n",
    "# Perform a t-test for the hypothesis testing, assuming unequal variances (Welch's t-test)\n",
    "t_statistic, p_value = ttest_ind(data1, data2, equal_var=False)\n",
    "\n",
    "# Calculate the degrees of freedom\n",
    "df = n1 + n2 - 2\n",
    "\n",
    "# Calculate the critical t-value\n",
    "critical_t = abs(t.ppf(alpha/2, df))\n",
    "\n",
    "# Compare the absolute value of the t-statistic with the critical t-value to make a decision about the hypothesis\n",
    "if abs(t_statistic) > critical_t:\n",
    "    print(alternative_hypothesis)\n",
    "else:\n",
    "    print(null_hypothesis)\n",
    "\n",
    "# Print the t-value and the critical value\n",
    "print(\"t-value: \", t_statistic)\n",
    "print(\"critical value: \", critical_t)\n"
   ]
  },
  {
   "cell_type": "markdown",
   "id": "ab216325",
   "metadata": {
    "papermill": {
     "duration": null,
     "end_time": null,
     "exception": null,
     "start_time": null,
     "status": "pending"
    },
    "tags": []
   },
   "source": [
    "##### The t-test results indicate that there is a statistically significant difference in the number of terrorism attacks between the United States and Iraq. The t-value of -106.44 is much larger than the critical value of 1.96 at a 95% confidence level. This suggests we can reject the null hypothesis that the average number of attacks in both countries is the same. The negative t-value implies that the mean number of terrorism attacks in the United States is significantly lower than in Iraq. However, a more detailed analysis would be necessary to understand the reasons behind this difference."
   ]
  },
  {
   "cell_type": "markdown",
   "id": "056fcf74",
   "metadata": {
    "papermill": {
     "duration": null,
     "end_time": null,
     "exception": null,
     "start_time": null,
     "status": "pending"
    },
    "tags": []
   },
   "source": [
    "# 6.2.The subsequent paragraph will highlight the disparity in the number of terrorist attacks between the United States and Iraq."
   ]
  },
  {
   "cell_type": "code",
   "execution_count": null,
   "id": "ce5975e5",
   "metadata": {
    "papermill": {
     "duration": null,
     "end_time": null,
     "exception": null,
     "start_time": null,
     "status": "pending"
    },
    "tags": []
   },
   "outputs": [],
   "source": [
    "# Load the data\n",
    "df = pd.read_csv('globalterrorismdb_0718dist.csv', encoding='ISO-8859-1',low_memory=False)\n",
    "df.rename(columns={'iyear':'Year','imonth':'Month','iday':'Day','country_txt':'Country','region_txt':'Region','attacktype1_txt':'AttackType','target1':'Target','nkill':'Killed','nwound':'Wounded','gname':'Group','targtype1_txt':'Target_type','weaptype1_txt':'Weapon_type'},inplace=True)\n",
    "\n",
    "# Select the two countries you want to compare\n",
    "country1 = 'United States'\n",
    "country2 = 'Iraq'\n",
    "\n",
    "# Filter the data to include only the selected countries\n",
    "data1 = df.loc[df['Country'] == country1, ['Year', 'Month']]\n",
    "data2 = df.loc[df['Country'] == country2, ['Year', 'Month']]\n",
    "\n",
    "# Group the data by year and month, and count the number of attacks in each group\n",
    "data1 = data1.groupby(['Year', 'Month']).size().reset_index(name='Count')\n",
    "data2 = data2.groupby(['Year', 'Month']).size().reset_index(name='Count')\n",
    "\n",
    "# Create a line plot showing the frequency of attacks over time\n",
    "plt.plot(data1['Year'], data1['Count'], label=country1)\n",
    "plt.plot(data2['Year'], data2['Count'], label=country2)\n",
    "\n",
    "# Add labels and title\n",
    "plt.xlabel('Year')\n",
    "plt.ylabel('Number of attacks')\n",
    "plt.title('Frequency of terrorist attacks in {} and {} over time'.format(country1, country2))\n",
    "\n",
    "# Add legend\n",
    "plt.legend()\n",
    "\n",
    "# Show the plot\n",
    "plt.show()\n"
   ]
  },
  {
   "cell_type": "code",
   "execution_count": null,
   "id": "648ad71e",
   "metadata": {
    "papermill": {
     "duration": null,
     "end_time": null,
     "exception": null,
     "start_time": null,
     "status": "pending"
    },
    "tags": []
   },
   "outputs": [],
   "source": []
  }
 ],
 "metadata": {
  "kaggle": {
   "accelerator": "none",
   "dataSources": [
    {
     "datasetId": 504,
     "sourceId": 95812,
     "sourceType": "datasetVersion"
    }
   ],
   "isGpuEnabled": false,
   "isInternetEnabled": true,
   "language": "python",
   "sourceType": "notebook"
  },
  "kernelspec": {
   "display_name": "Python 3 (ipykernel)",
   "language": "python",
   "name": "python3"
  },
  "language_info": {
   "codemirror_mode": {
    "name": "ipython",
    "version": 3
   },
   "file_extension": ".py",
   "mimetype": "text/x-python",
   "name": "python",
   "nbconvert_exporter": "python",
   "pygments_lexer": "ipython3",
   "version": "3.10.12"
  },
  "papermill": {
   "default_parameters": {},
   "duration": 8.475028,
   "end_time": "2023-12-01T12:22:29.553888",
   "environment_variables": {},
   "exception": true,
   "input_path": "__notebook__.ipynb",
   "output_path": "__notebook__.ipynb",
   "parameters": {},
   "start_time": "2023-12-01T12:22:21.078860",
   "version": "2.4.0"
  }
 },
 "nbformat": 4,
 "nbformat_minor": 5
}
