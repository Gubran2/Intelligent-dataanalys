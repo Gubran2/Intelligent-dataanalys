{
 "cells": [
  {
   "cell_type": "code",
   "execution_count": 13,
   "id": "8d8ed626",
   "metadata": {},
   "outputs": [],
   "source": [
    "import pandas as pd\n",
    "import matplotlib.pyplot as plt\n",
    "import numpy as np\n",
    "import seaborn  as sns"
   ]
  },
  {
   "cell_type": "code",
   "execution_count": 15,
   "id": "b818f1de",
   "metadata": {
    "scrolled": true
   },
   "outputs": [
    {
     "name": "stdout",
     "output_type": "stream",
     "text": [
      "       BOROUGH              NEIGHBORHOOD         BUILDING CLASS CATEGORY  \\\n",
      "0            1             ALPHABET CITY         01 ONE FAMILY DWELLINGS   \n",
      "1            1             ALPHABET CITY         02 TWO FAMILY DWELLINGS   \n",
      "2            1             ALPHABET CITY         02 TWO FAMILY DWELLINGS   \n",
      "3            1             ALPHABET CITY  07 RENTALS - WALKUP APARTMENTS   \n",
      "4            1             ALPHABET CITY  07 RENTALS - WALKUP APARTMENTS   \n",
      "...        ...                       ...                             ...   \n",
      "20346        1  WASHINGTON HEIGHTS UPPER              22 STORE BUILDINGS   \n",
      "20347        1  WASHINGTON HEIGHTS UPPER              22 STORE BUILDINGS   \n",
      "20348        1  WASHINGTON HEIGHTS UPPER              22 STORE BUILDINGS   \n",
      "20349        1  WASHINGTON HEIGHTS UPPER           29 COMMERCIAL GARAGES   \n",
      "20350        1  WASHINGTON HEIGHTS UPPER           29 COMMERCIAL GARAGES   \n",
      "\n",
      "      TAX CLASS AT PRESENT  BLOCK  LOT  EASEMENT BUILDING CLASS AT PRESENT  \\\n",
      "0                        1    374   46       NaN                        A4   \n",
      "1                        1    372   36       NaN                        S2   \n",
      "2                        1    377    1       NaN                        S2   \n",
      "3                       2B    373   16       NaN                        C1   \n",
      "4                       2B    373   17       NaN                        C1   \n",
      "...                    ...    ...  ...       ...                       ...   \n",
      "20346                    4   2154   26       NaN                        K2   \n",
      "20347                    4   2162   39       NaN                        K2   \n",
      "20348                    4   2174   65       NaN                        K2   \n",
      "20349                    4   2172    1       NaN                        G6   \n",
      "20350                    4   2180   95       NaN                        G4   \n",
      "\n",
      "                       ADDRESS APARTMENT NUMBER  ...  RESIDENTIAL UNITS  \\\n",
      "0          347 EAST 4TH STREET              NaN  ...                1.0   \n",
      "1                  19 AVENUE D              NaN  ...                2.0   \n",
      "2                 110 AVENUE C              NaN  ...                2.0   \n",
      "3          326 EAST 4TH STREET              NaN  ...               10.0   \n",
      "4          328 EAST 4TH STREET              NaN  ...               10.0   \n",
      "...                        ...              ...  ...                ...   \n",
      "20346      571 WEST 181 STREET              NaN  ...                0.0   \n",
      "20347  1387 ST NICHOLAS AVENUE              NaN  ...                0.0   \n",
      "20348       110 DYCKMAN STREET              NaN  ...                0.0   \n",
      "20349            4560 BROADWAY              NaN  ...                0.0   \n",
      "20350            4275 BROADWAY              NaN  ...                0.0   \n",
      "\n",
      "       COMMERCIAL UNITS  TOTAL UNITS  LAND SQUARE FEET  GROSS SQUARE FEET  \\\n",
      "0                   0.0          1.0            2116.0             4400.0   \n",
      "1                   1.0          3.0             825.0             2481.0   \n",
      "2                   1.0          3.0            1502.0             2790.0   \n",
      "3                   0.0         10.0            2204.0             8625.0   \n",
      "4                   0.0         10.0            2204.0             8625.0   \n",
      "...                 ...          ...               ...                ...   \n",
      "20346               1.0          1.0            5000.0            14000.0   \n",
      "20347               5.0          5.0           10000.0            16080.0   \n",
      "20348               2.0          2.0            1600.0             1920.0   \n",
      "20349               0.0          0.0           15449.0                0.0   \n",
      "20350               2.0          2.0           10479.0             1950.0   \n",
      "\n",
      "       YEAR BUILT  TAX CLASS AT TIME OF SALE  BUILDING CLASS AT TIME OF SALE  \\\n",
      "0          1900.0                          1                              A4   \n",
      "1          1900.0                          1                              S2   \n",
      "2          1901.0                          1                              S2   \n",
      "3          1899.0                          2                              C1   \n",
      "4          1900.0                          2                              C1   \n",
      "...           ...                        ...                             ...   \n",
      "20346      2001.0                          4                              K2   \n",
      "20347      1912.0                          4                              K2   \n",
      "20348      1940.0                          4                              K2   \n",
      "20349         NaN                          4                              G6   \n",
      "20350      1934.0                          4                              G4   \n",
      "\n",
      "      SALE PRICE  SALE DATE  \n",
      "0         399000 2022-09-29  \n",
      "1              1 2023-01-20  \n",
      "2        2999999 2022-09-15  \n",
      "3       16800000 2022-08-04  \n",
      "4       16800000 2022-08-04  \n",
      "...          ...        ...  \n",
      "20346          0 2022-03-23  \n",
      "20347          0 2022-03-04  \n",
      "20348    1900000 2022-12-19  \n",
      "20349   15000000 2022-11-16  \n",
      "20350          0 2022-10-18  \n",
      "\n",
      "[20351 rows x 21 columns]\n"
     ]
    }
   ],
   "source": [
    "missing_value = [\"NaN\",np.nan]\n",
    "df = pd.read_excel(\"C:\\\\Users\\\\gubra\\\\Downloads\\\\rollingsales_manhattan.xlsx\", engine='openpyxl', na_values= missing_value, header = 4)\n",
    "#df.drop([0,1,2,3], axis=0,inplace= True)\n",
    "print(df)\n"
   ]
  },
  {
   "cell_type": "code",
   "execution_count": 16,
   "id": "aa2a07fa",
   "metadata": {},
   "outputs": [
    {
     "name": "stdout",
     "output_type": "stream",
     "text": [
      "EASEMENT             20351\n",
      "LAND SQUARE FEET     18625\n",
      "GROSS SQUARE FEET    18625\n",
      "dtype: int64\n"
     ]
    }
   ],
   "source": [
    "na_count = df.isnull().sum()\n",
    "top_3_na = na_count.nlargest(3)\n",
    "print(top_3_na)"
   ]
  },
  {
   "cell_type": "code",
   "execution_count": 17,
   "id": "90ae6ac5",
   "metadata": {
    "scrolled": true
   },
   "outputs": [
    {
     "data": {
      "text/html": [
       "<div>\n",
       "<style scoped>\n",
       "    .dataframe tbody tr th:only-of-type {\n",
       "        vertical-align: middle;\n",
       "    }\n",
       "\n",
       "    .dataframe tbody tr th {\n",
       "        vertical-align: top;\n",
       "    }\n",
       "\n",
       "    .dataframe thead th {\n",
       "        text-align: right;\n",
       "    }\n",
       "</style>\n",
       "<table border=\"1\" class=\"dataframe\">\n",
       "  <thead>\n",
       "    <tr style=\"text-align: right;\">\n",
       "      <th></th>\n",
       "      <th>BOROUGH</th>\n",
       "      <th>NEIGHBORHOOD</th>\n",
       "      <th>BUILDING CLASS CATEGORY</th>\n",
       "      <th>TAX CLASS AT PRESENT</th>\n",
       "      <th>BLOCK</th>\n",
       "      <th>LOT</th>\n",
       "      <th>BUILDING CLASS AT PRESENT</th>\n",
       "      <th>ADDRESS</th>\n",
       "      <th>APARTMENT NUMBER</th>\n",
       "      <th>ZIP CODE</th>\n",
       "      <th>RESIDENTIAL UNITS</th>\n",
       "      <th>COMMERCIAL UNITS</th>\n",
       "      <th>TOTAL UNITS</th>\n",
       "      <th>YEAR BUILT</th>\n",
       "      <th>TAX CLASS AT TIME OF SALE</th>\n",
       "      <th>BUILDING CLASS AT TIME OF SALE</th>\n",
       "      <th>SALE PRICE</th>\n",
       "      <th>SALE DATE</th>\n",
       "    </tr>\n",
       "  </thead>\n",
       "  <tbody>\n",
       "    <tr>\n",
       "      <th>0</th>\n",
       "      <td>1</td>\n",
       "      <td>ALPHABET CITY</td>\n",
       "      <td>01 ONE FAMILY DWELLINGS</td>\n",
       "      <td>1</td>\n",
       "      <td>374</td>\n",
       "      <td>46</td>\n",
       "      <td>A4</td>\n",
       "      <td>347 EAST 4TH STREET</td>\n",
       "      <td>NaN</td>\n",
       "      <td>10009</td>\n",
       "      <td>1.0</td>\n",
       "      <td>0.0</td>\n",
       "      <td>1.0</td>\n",
       "      <td>1900.0</td>\n",
       "      <td>1</td>\n",
       "      <td>A4</td>\n",
       "      <td>399000</td>\n",
       "      <td>2022-09-29</td>\n",
       "    </tr>\n",
       "    <tr>\n",
       "      <th>1</th>\n",
       "      <td>1</td>\n",
       "      <td>ALPHABET CITY</td>\n",
       "      <td>02 TWO FAMILY DWELLINGS</td>\n",
       "      <td>1</td>\n",
       "      <td>372</td>\n",
       "      <td>36</td>\n",
       "      <td>S2</td>\n",
       "      <td>19 AVENUE D</td>\n",
       "      <td>NaN</td>\n",
       "      <td>10009</td>\n",
       "      <td>2.0</td>\n",
       "      <td>1.0</td>\n",
       "      <td>3.0</td>\n",
       "      <td>1900.0</td>\n",
       "      <td>1</td>\n",
       "      <td>S2</td>\n",
       "      <td>1</td>\n",
       "      <td>2023-01-20</td>\n",
       "    </tr>\n",
       "    <tr>\n",
       "      <th>2</th>\n",
       "      <td>1</td>\n",
       "      <td>ALPHABET CITY</td>\n",
       "      <td>02 TWO FAMILY DWELLINGS</td>\n",
       "      <td>1</td>\n",
       "      <td>377</td>\n",
       "      <td>1</td>\n",
       "      <td>S2</td>\n",
       "      <td>110 AVENUE C</td>\n",
       "      <td>NaN</td>\n",
       "      <td>10009</td>\n",
       "      <td>2.0</td>\n",
       "      <td>1.0</td>\n",
       "      <td>3.0</td>\n",
       "      <td>1901.0</td>\n",
       "      <td>1</td>\n",
       "      <td>S2</td>\n",
       "      <td>2999999</td>\n",
       "      <td>2022-09-15</td>\n",
       "    </tr>\n",
       "    <tr>\n",
       "      <th>3</th>\n",
       "      <td>1</td>\n",
       "      <td>ALPHABET CITY</td>\n",
       "      <td>07 RENTALS - WALKUP APARTMENTS</td>\n",
       "      <td>2B</td>\n",
       "      <td>373</td>\n",
       "      <td>16</td>\n",
       "      <td>C1</td>\n",
       "      <td>326 EAST 4TH STREET</td>\n",
       "      <td>NaN</td>\n",
       "      <td>10009</td>\n",
       "      <td>10.0</td>\n",
       "      <td>0.0</td>\n",
       "      <td>10.0</td>\n",
       "      <td>1899.0</td>\n",
       "      <td>2</td>\n",
       "      <td>C1</td>\n",
       "      <td>16800000</td>\n",
       "      <td>2022-08-04</td>\n",
       "    </tr>\n",
       "    <tr>\n",
       "      <th>4</th>\n",
       "      <td>1</td>\n",
       "      <td>ALPHABET CITY</td>\n",
       "      <td>07 RENTALS - WALKUP APARTMENTS</td>\n",
       "      <td>2B</td>\n",
       "      <td>373</td>\n",
       "      <td>17</td>\n",
       "      <td>C1</td>\n",
       "      <td>328 EAST 4TH STREET</td>\n",
       "      <td>NaN</td>\n",
       "      <td>10009</td>\n",
       "      <td>10.0</td>\n",
       "      <td>0.0</td>\n",
       "      <td>10.0</td>\n",
       "      <td>1900.0</td>\n",
       "      <td>2</td>\n",
       "      <td>C1</td>\n",
       "      <td>16800000</td>\n",
       "      <td>2022-08-04</td>\n",
       "    </tr>\n",
       "    <tr>\n",
       "      <th>5</th>\n",
       "      <td>1</td>\n",
       "      <td>ALPHABET CITY</td>\n",
       "      <td>07 RENTALS - WALKUP APARTMENTS</td>\n",
       "      <td>2</td>\n",
       "      <td>376</td>\n",
       "      <td>54</td>\n",
       "      <td>C4</td>\n",
       "      <td>719 EAST SIXTH STREET, 1B</td>\n",
       "      <td>NaN</td>\n",
       "      <td>10009</td>\n",
       "      <td>20.0</td>\n",
       "      <td>0.0</td>\n",
       "      <td>20.0</td>\n",
       "      <td>1900.0</td>\n",
       "      <td>2</td>\n",
       "      <td>C4</td>\n",
       "      <td>158822</td>\n",
       "      <td>2022-09-27</td>\n",
       "    </tr>\n",
       "    <tr>\n",
       "      <th>6</th>\n",
       "      <td>1</td>\n",
       "      <td>ALPHABET CITY</td>\n",
       "      <td>07 RENTALS - WALKUP APARTMENTS</td>\n",
       "      <td>2A</td>\n",
       "      <td>377</td>\n",
       "      <td>52</td>\n",
       "      <td>C2</td>\n",
       "      <td>271 EAST 7TH STREET</td>\n",
       "      <td>NaN</td>\n",
       "      <td>10009</td>\n",
       "      <td>5.0</td>\n",
       "      <td>0.0</td>\n",
       "      <td>5.0</td>\n",
       "      <td>1900.0</td>\n",
       "      <td>2</td>\n",
       "      <td>C2</td>\n",
       "      <td>0</td>\n",
       "      <td>2022-08-05</td>\n",
       "    </tr>\n",
       "    <tr>\n",
       "      <th>7</th>\n",
       "      <td>1</td>\n",
       "      <td>ALPHABET CITY</td>\n",
       "      <td>07 RENTALS - WALKUP APARTMENTS</td>\n",
       "      <td>2A</td>\n",
       "      <td>377</td>\n",
       "      <td>52</td>\n",
       "      <td>C2</td>\n",
       "      <td>271 EAST 7TH STREET</td>\n",
       "      <td>NaN</td>\n",
       "      <td>10009</td>\n",
       "      <td>5.0</td>\n",
       "      <td>0.0</td>\n",
       "      <td>5.0</td>\n",
       "      <td>1900.0</td>\n",
       "      <td>2</td>\n",
       "      <td>C2</td>\n",
       "      <td>0</td>\n",
       "      <td>2022-05-10</td>\n",
       "    </tr>\n",
       "    <tr>\n",
       "      <th>8</th>\n",
       "      <td>1</td>\n",
       "      <td>ALPHABET CITY</td>\n",
       "      <td>07 RENTALS - WALKUP APARTMENTS</td>\n",
       "      <td>2B</td>\n",
       "      <td>379</td>\n",
       "      <td>25</td>\n",
       "      <td>C7</td>\n",
       "      <td>434 EAST 10TH STREET, 4</td>\n",
       "      <td>NaN</td>\n",
       "      <td>10009</td>\n",
       "      <td>7.0</td>\n",
       "      <td>1.0</td>\n",
       "      <td>8.0</td>\n",
       "      <td>1920.0</td>\n",
       "      <td>2</td>\n",
       "      <td>C7</td>\n",
       "      <td>1635000</td>\n",
       "      <td>2022-08-05</td>\n",
       "    </tr>\n",
       "    <tr>\n",
       "      <th>9</th>\n",
       "      <td>1</td>\n",
       "      <td>ALPHABET CITY</td>\n",
       "      <td>07 RENTALS - WALKUP APARTMENTS</td>\n",
       "      <td>2B</td>\n",
       "      <td>389</td>\n",
       "      <td>45</td>\n",
       "      <td>C4</td>\n",
       "      <td>631 EAST 6TH STREET</td>\n",
       "      <td>NaN</td>\n",
       "      <td>10009</td>\n",
       "      <td>10.0</td>\n",
       "      <td>0.0</td>\n",
       "      <td>10.0</td>\n",
       "      <td>1900.0</td>\n",
       "      <td>2</td>\n",
       "      <td>C4</td>\n",
       "      <td>5250000</td>\n",
       "      <td>2022-06-16</td>\n",
       "    </tr>\n",
       "  </tbody>\n",
       "</table>\n",
       "</div>"
      ],
      "text/plain": [
       "   BOROUGH   NEIGHBORHOOD         BUILDING CLASS CATEGORY  \\\n",
       "0        1  ALPHABET CITY         01 ONE FAMILY DWELLINGS   \n",
       "1        1  ALPHABET CITY         02 TWO FAMILY DWELLINGS   \n",
       "2        1  ALPHABET CITY         02 TWO FAMILY DWELLINGS   \n",
       "3        1  ALPHABET CITY  07 RENTALS - WALKUP APARTMENTS   \n",
       "4        1  ALPHABET CITY  07 RENTALS - WALKUP APARTMENTS   \n",
       "5        1  ALPHABET CITY  07 RENTALS - WALKUP APARTMENTS   \n",
       "6        1  ALPHABET CITY  07 RENTALS - WALKUP APARTMENTS   \n",
       "7        1  ALPHABET CITY  07 RENTALS - WALKUP APARTMENTS   \n",
       "8        1  ALPHABET CITY  07 RENTALS - WALKUP APARTMENTS   \n",
       "9        1  ALPHABET CITY  07 RENTALS - WALKUP APARTMENTS   \n",
       "\n",
       "  TAX CLASS AT PRESENT  BLOCK  LOT BUILDING CLASS AT PRESENT  \\\n",
       "0                    1    374   46                        A4   \n",
       "1                    1    372   36                        S2   \n",
       "2                    1    377    1                        S2   \n",
       "3                   2B    373   16                        C1   \n",
       "4                   2B    373   17                        C1   \n",
       "5                    2    376   54                        C4   \n",
       "6                   2A    377   52                        C2   \n",
       "7                   2A    377   52                        C2   \n",
       "8                   2B    379   25                        C7   \n",
       "9                   2B    389   45                        C4   \n",
       "\n",
       "                     ADDRESS APARTMENT NUMBER  ZIP CODE  RESIDENTIAL UNITS  \\\n",
       "0        347 EAST 4TH STREET              NaN     10009                1.0   \n",
       "1                19 AVENUE D              NaN     10009                2.0   \n",
       "2               110 AVENUE C              NaN     10009                2.0   \n",
       "3        326 EAST 4TH STREET              NaN     10009               10.0   \n",
       "4        328 EAST 4TH STREET              NaN     10009               10.0   \n",
       "5  719 EAST SIXTH STREET, 1B              NaN     10009               20.0   \n",
       "6        271 EAST 7TH STREET              NaN     10009                5.0   \n",
       "7        271 EAST 7TH STREET              NaN     10009                5.0   \n",
       "8    434 EAST 10TH STREET, 4              NaN     10009                7.0   \n",
       "9        631 EAST 6TH STREET              NaN     10009               10.0   \n",
       "\n",
       "   COMMERCIAL UNITS  TOTAL UNITS  YEAR BUILT  TAX CLASS AT TIME OF SALE  \\\n",
       "0               0.0          1.0      1900.0                          1   \n",
       "1               1.0          3.0      1900.0                          1   \n",
       "2               1.0          3.0      1901.0                          1   \n",
       "3               0.0         10.0      1899.0                          2   \n",
       "4               0.0         10.0      1900.0                          2   \n",
       "5               0.0         20.0      1900.0                          2   \n",
       "6               0.0          5.0      1900.0                          2   \n",
       "7               0.0          5.0      1900.0                          2   \n",
       "8               1.0          8.0      1920.0                          2   \n",
       "9               0.0         10.0      1900.0                          2   \n",
       "\n",
       "  BUILDING CLASS AT TIME OF SALE  SALE PRICE  SALE DATE  \n",
       "0                             A4      399000 2022-09-29  \n",
       "1                             S2           1 2023-01-20  \n",
       "2                             S2     2999999 2022-09-15  \n",
       "3                             C1    16800000 2022-08-04  \n",
       "4                             C1    16800000 2022-08-04  \n",
       "5                             C4      158822 2022-09-27  \n",
       "6                             C2           0 2022-08-05  \n",
       "7                             C2           0 2022-05-10  \n",
       "8                             C7     1635000 2022-08-05  \n",
       "9                             C4     5250000 2022-06-16  "
      ]
     },
     "execution_count": 17,
     "metadata": {},
     "output_type": "execute_result"
    }
   ],
   "source": [
    "df_clean = df.drop(columns=[\"EASEMENT\", \"LAND SQUARE FEET\",\"GROSS SQUARE FEET\"])\n",
    "df_clean.head(10)"
   ]
  },
  {
   "cell_type": "code",
   "execution_count": 18,
   "id": "dc8fc675",
   "metadata": {
    "scrolled": true
   },
   "outputs": [
    {
     "data": {
      "text/plain": [
       "BOROUGH                           False\n",
       "NEIGHBORHOOD                      False\n",
       "BUILDING CLASS CATEGORY           False\n",
       "TAX CLASS AT PRESENT               True\n",
       "BLOCK                             False\n",
       "LOT                               False\n",
       "EASEMENT                           True\n",
       "BUILDING CLASS AT PRESENT          True\n",
       "ADDRESS                           False\n",
       "APARTMENT NUMBER                   True\n",
       "ZIP CODE                          False\n",
       "RESIDENTIAL UNITS                  True\n",
       "COMMERCIAL UNITS                   True\n",
       "TOTAL UNITS                        True\n",
       "LAND SQUARE FEET                   True\n",
       "GROSS SQUARE FEET                  True\n",
       "YEAR BUILT                         True\n",
       "TAX CLASS AT TIME OF SALE         False\n",
       "BUILDING CLASS AT TIME OF SALE    False\n",
       "SALE PRICE                        False\n",
       "SALE DATE                         False\n",
       "dtype: bool"
      ]
     },
     "execution_count": 18,
     "metadata": {},
     "output_type": "execute_result"
    }
   ],
   "source": [
    "df.isnull().any()"
   ]
  },
  {
   "cell_type": "code",
   "execution_count": 19,
   "id": "31287382",
   "metadata": {
    "scrolled": true
   },
   "outputs": [
    {
     "name": "stdout",
     "output_type": "stream",
     "text": [
      "Index(['BOROUGH', 'NEIGHBORHOOD', 'BUILDING CLASS CATEGORY',\n",
      "       'TAX CLASS AT PRESENT', 'BLOCK', 'LOT', 'EASEMENT',\n",
      "       'BUILDING CLASS AT PRESENT', 'ADDRESS', 'APARTMENT NUMBER', 'ZIP CODE',\n",
      "       'RESIDENTIAL UNITS', 'COMMERCIAL UNITS', 'TOTAL UNITS',\n",
      "       'LAND SQUARE FEET', 'GROSS SQUARE FEET', 'YEAR BUILT',\n",
      "       'TAX CLASS AT TIME OF SALE', 'BUILDING CLASS AT TIME OF SALE',\n",
      "       'SALE PRICE', 'SALE DATE'],\n",
      "      dtype='object')\n"
     ]
    }
   ],
   "source": [
    "print(df.columns)"
   ]
  },
  {
   "cell_type": "code",
   "execution_count": null,
   "id": "e846860d",
   "metadata": {},
   "outputs": [],
   "source": []
  },
  {
   "cell_type": "code",
   "execution_count": null,
   "id": "e4da440b",
   "metadata": {},
   "outputs": [],
   "source": []
  },
  {
   "cell_type": "markdown",
   "id": "eadb539f",
   "metadata": {},
   "source": [
    "# Where in Manhattan is the most/least expensive real estate located?\n",
    "#### in the diagram below we can see the first five most expensive places to live in Manhattan. after that we have also a diagram who show to us the least expensive places to live in Manhattan"
   ]
  },
  {
   "cell_type": "code",
   "execution_count": 20,
   "id": "ec19fc5d",
   "metadata": {
    "scrolled": false
   },
   "outputs": [
    {
     "data": {
      "image/png": "[encoded data removed]",
      "text/plain": [
       "<Figure size 640x480 with 1 Axes>"
      ]
     },
     "metadata": {},
     "output_type": "display_data"
    },
    {
     "name": "stdout",
     "output_type": "stream",
     "text": [
      "<bound method NDFrame.head of NEIGHBORHOOD\n",
      "FINANCIAL        2.125884e+07\n",
      "MIDTOWN CBD      9.944450e+06\n",
      "SOUTHBRIDGE      8.883329e+06\n",
      "JAVITS CENTER    7.462519e+06\n",
      "KIPS BAY         7.121979e+06\n",
      "Name: SALE PRICE, dtype: float64>\n"
     ]
    }
   ],
   "source": [
    "df_clean[\"SALE PRICE\"] = pd.to_numeric(df_clean[\"SALE PRICE\"], errors='coerce')\n",
    "the_neighborhood_price=df_clean.groupby('NEIGHBORHOOD')['SALE PRICE'].mean()\n",
    "\n",
    "the_neighborhood_price =the_neighborhood_price.sort_values(ascending=False).head()\n",
    "\n",
    "\n",
    "the_neighborhood_price.plot(kind=\"bar\", y=\"SALE PRICE\", x=\"NEIGHBORHOOD\")\n",
    "\n",
    "plt.show()\n",
    "\n",
    "print(the_neighborhood_price.head)"
   ]
  },
  {
   "cell_type": "code",
   "execution_count": 22,
   "id": "fc0044b4",
   "metadata": {},
   "outputs": [
    {
     "data": {
      "image/png": "[encoded data removed]",
      "text/plain": [
       "<Figure size 640x480 with 1 Axes>"
      ]
     },
     "metadata": {},
     "output_type": "display_data"
    }
   ],
   "source": [
    "df_clean[\"SALE PRICE\"] = pd.to_numeric(df_clean[\"SALE PRICE\"], errors='coerce')\n",
    "\n",
    "the_neighborhood_price=df_clean.groupby('NEIGHBORHOOD')['SALE PRICE'].mean()\n",
    "\n",
    "the_neighborhood_price =the_neighborhood_price.sort_values(ascending=False).tail()\n",
    "the_neighborhood_price.plot(kind=\"bar\", y=\"SALE PRICE\", x=\"NEIGHBORHOOD\")\n",
    "plt.show()\n",
    "\n"
   ]
  },
  {
   "cell_type": "markdown",
   "id": "77146917",
   "metadata": {},
   "source": [
    "# What is the relation-ship between the sales price and gross square feet?\n",
    "\n",
    "#### Now we will create a scatter plot to visually analyze the relationship between Sale Price and Gross Square feet. We will also calc the Correlation to see if there any relationship between the sale prive and their size in square feet(we get that the corr is 0.277774, it means there is no lie´near relationships betweem the variables)"
   ]
  },
  {
   "cell_type": "code",
   "execution_count": 26,
   "id": "ddfe8fcc",
   "metadata": {},
   "outputs": [
    {
     "data": {
      "image/png": "[encoded data removed]",
      "text/plain": [
       "<Figure size 1000x600 with 1 Axes>"
      ]
     },
     "metadata": {},
     "output_type": "display_data"
    }
   ],
   "source": [
    "plt.figure(figsize=(10, 6))\n",
    "sns.scatterplot(data=df, x='GROSS SQUARE FEET', y='SALE PRICE')\n",
    "plt.title('Relationship between Sale Price and Gross Square Feet')\n",
    "plt.show()\n",
    "\n"
   ]
  },
  {
   "cell_type": "code",
   "execution_count": 23,
   "id": "cba15073",
   "metadata": {},
   "outputs": [
    {
     "name": "stdout",
     "output_type": "stream",
     "text": [
      "Correlation between SALE PRICE and GROSS SQUARE FEET is 0.27749774475439737\n"
     ]
    }
   ],
   "source": [
    "corr = df['SALE PRICE'].corr(df['GROSS SQUARE FEET'])\n",
    "print(\"Correlation between SALE PRICE and GROSS SQUARE FEET is\", corr)\n"
   ]
  },
  {
   "cell_type": "code",
   "execution_count": null,
   "id": "5bfb385c",
   "metadata": {},
   "outputs": [],
   "source": []
  },
  {
   "cell_type": "code",
   "execution_count": null,
   "id": "62777990",
   "metadata": {},
   "outputs": [],
   "source": []
  },
  {
   "cell_type": "code",
   "execution_count": null,
   "id": "f05476f6",
   "metadata": {},
   "outputs": [],
   "source": []
  },
  {
   "cell_type": "code",
   "execution_count": null,
   "id": "83199250",
   "metadata": {},
   "outputs": [],
   "source": []
  },
  {
   "cell_type": "code",
   "execution_count": null,
   "id": "fb2aeffc",
   "metadata": {},
   "outputs": [],
   "source": []
  },
  {
   "cell_type": "code",
   "execution_count": null,
   "id": "f2e42cf2",
   "metadata": {},
   "outputs": [],
   "source": []
  },
  {
   "cell_type": "code",
   "execution_count": null,
   "id": "849f7890",
   "metadata": {},
   "outputs": [],
   "source": []
  },
  {
   "cell_type": "code",
   "execution_count": null,
   "id": "bab542e3",
   "metadata": {},
   "outputs": [],
   "source": []
  },
  {
   "cell_type": "code",
   "execution_count": null,
   "id": "29bbc90d",
   "metadata": {},
   "outputs": [],
   "source": []
  }
 ],
 "metadata": {
  "kernelspec": {
   "display_name": "Python 3 (ipykernel)",
   "language": "python",
   "name": "python3"
  },
  "language_info": {
   "codemirror_mode": {
    "name": "ipython",
    "version": 3
   },
   "file_extension": ".py",
   "mimetype": "text/x-python",
   "name": "python",
   "nbconvert_exporter": "python",
   "pygments_lexer": "ipython3",
   "version": "3.9.13"
  }
 },
 "nbformat": 4,
 "nbformat_minor": 5
}
