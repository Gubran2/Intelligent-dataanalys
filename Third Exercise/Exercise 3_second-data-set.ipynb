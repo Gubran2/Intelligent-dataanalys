{
 "cells": [
  {
   "cell_type": "code",
   "execution_count": 1,
   "id": "74c283a0",
   "metadata": {},
   "outputs": [],
   "source": [
    "import pandas as pd\n",
    "import matplotlib.pyplot as plt\n",
    "import numpy as np\n",
    "import seaborn  as sns"
   ]
  },
  {
   "cell_type": "code",
   "execution_count": 3,
   "id": "ceefb33c",
   "metadata": {
    "scrolled": true
   },
   "outputs": [
    {
     "name": "stdout",
     "output_type": "stream",
     "text": [
      "   ISO country code Country name      2011 GDP  2010 population  Female count  \\\n",
      "0               USA           US  1.509400e+13        309349000           271   \n",
      "1               CHN        China  7.298100e+12       1338300000           208   \n",
      "2               JPN        Japan  5.867150e+12        127451000           162   \n",
      "3               DEU      Germany  3.570560e+12         81777000           176   \n",
      "4               FRA       France  2.773030e+12         64895000           148   \n",
      "5               BRA       Brazil  2.476650e+12        194946000           128   \n",
      "6               GBR           UK  2.431590e+12         62232000           269   \n",
      "7               ITA        Italy  2.194750e+12         60483000           122   \n",
      "8               RUS       Russia  1.857770e+12        141750000           227   \n",
      "9               IND        India  1.847980e+12       1224615000            23   \n",
      "10              JAM      Jamaica  1.506977e+10          2702000            25   \n",
      "11              GEO      Georgia  1.436657e+10          4452000             6   \n",
      "12              PRK  North Korea  1.228000e+10         24589122            40   \n",
      "13              ARM      Armenia  1.024779e+10          3092000             4   \n",
      "14              MNG     Mongolia  8.557530e+09          2756000            13   \n",
      "15              BHS      Bahamas  7.787514e+09           343000            11   \n",
      "16              MDA      Moldova  7.000319e+09          3562000            10   \n",
      "17              TJK   Tajikistan  6.522200e+09          6879000             3   \n",
      "18              MNE   Montenegro  4.550463e+09           632000            16   \n",
      "19              GRD      Grenada  8.160541e+08           104000             4   \n",
      "\n",
      "    Male count  Gold medals  Silver medals  Bronze medals  \n",
      "0          260           46             29             29  \n",
      "1          163           38             27             23  \n",
      "2          141            7             14             17  \n",
      "3          219           11             19             14  \n",
      "4          187           11             11             12  \n",
      "5          138            3              5              9  \n",
      "6          287           29             17             19  \n",
      "7          159            8              9             11  \n",
      "8          208           24             26             32  \n",
      "9           60            0              2              4  \n",
      "10          25            4              4              4  \n",
      "11          29            1              3              3  \n",
      "12          15            4              0              2  \n",
      "13          21            0              1              2  \n",
      "14          16            0              2              3  \n",
      "15          15            1              0              0  \n",
      "16          12            0              0              2  \n",
      "17          13            0              0              1  \n",
      "18          18            0              1              0  \n",
      "19           6            1              0              0  \n"
     ]
    }
   ],
   "source": [
    "missing_value = [\"NaN\",np.nan]\n",
    "df_olympic = pd.read_csv(\"C:\\\\Users\\\\gubra\\\\Downloads\\\\olympics.csv\")\n",
    "print(df_olympic)"
   ]
  },
  {
   "cell_type": "code",
   "execution_count": 4,
   "id": "3d5ac584",
   "metadata": {},
   "outputs": [
    {
     "data": {
      "text/plain": [
       "Index(['ISO country code', 'Country name', '2011 GDP', '2010 population',\n",
       "       'Female count', 'Male count', 'Gold medals', 'Silver medals',\n",
       "       'Bronze medals'],\n",
       "      dtype='object')"
      ]
     },
     "execution_count": 4,
     "metadata": {},
     "output_type": "execute_result"
    }
   ],
   "source": [
    "df_olympic.columns"
   ]
  },
  {
   "cell_type": "code",
   "execution_count": 5,
   "id": "c21d2b6c",
   "metadata": {},
   "outputs": [
    {
     "data": {
      "text/html": [
       "<div>\n",
       "<style scoped>\n",
       "    .dataframe tbody tr th:only-of-type {\n",
       "        vertical-align: middle;\n",
       "    }\n",
       "\n",
       "    .dataframe tbody tr th {\n",
       "        vertical-align: top;\n",
       "    }\n",
       "\n",
       "    .dataframe thead th {\n",
       "        text-align: right;\n",
       "    }\n",
       "</style>\n",
       "<table border=\"1\" class=\"dataframe\">\n",
       "  <thead>\n",
       "    <tr style=\"text-align: right;\">\n",
       "      <th></th>\n",
       "      <th>ISO country code</th>\n",
       "      <th>Country name</th>\n",
       "      <th>2011 GDP</th>\n",
       "      <th>2010 population</th>\n",
       "      <th>Female count</th>\n",
       "      <th>Male count</th>\n",
       "      <th>Gold medals</th>\n",
       "      <th>Silver medals</th>\n",
       "      <th>Bronze medals</th>\n",
       "    </tr>\n",
       "  </thead>\n",
       "  <tbody>\n",
       "    <tr>\n",
       "      <th>0</th>\n",
       "      <td>USA</td>\n",
       "      <td>US</td>\n",
       "      <td>1.509400e+13</td>\n",
       "      <td>309349000</td>\n",
       "      <td>271</td>\n",
       "      <td>260</td>\n",
       "      <td>46</td>\n",
       "      <td>29</td>\n",
       "      <td>29</td>\n",
       "    </tr>\n",
       "    <tr>\n",
       "      <th>1</th>\n",
       "      <td>CHN</td>\n",
       "      <td>China</td>\n",
       "      <td>7.298100e+12</td>\n",
       "      <td>1338300000</td>\n",
       "      <td>208</td>\n",
       "      <td>163</td>\n",
       "      <td>38</td>\n",
       "      <td>27</td>\n",
       "      <td>23</td>\n",
       "    </tr>\n",
       "    <tr>\n",
       "      <th>2</th>\n",
       "      <td>JPN</td>\n",
       "      <td>Japan</td>\n",
       "      <td>5.867150e+12</td>\n",
       "      <td>127451000</td>\n",
       "      <td>162</td>\n",
       "      <td>141</td>\n",
       "      <td>7</td>\n",
       "      <td>14</td>\n",
       "      <td>17</td>\n",
       "    </tr>\n",
       "    <tr>\n",
       "      <th>3</th>\n",
       "      <td>DEU</td>\n",
       "      <td>Germany</td>\n",
       "      <td>3.570560e+12</td>\n",
       "      <td>81777000</td>\n",
       "      <td>176</td>\n",
       "      <td>219</td>\n",
       "      <td>11</td>\n",
       "      <td>19</td>\n",
       "      <td>14</td>\n",
       "    </tr>\n",
       "    <tr>\n",
       "      <th>4</th>\n",
       "      <td>FRA</td>\n",
       "      <td>France</td>\n",
       "      <td>2.773030e+12</td>\n",
       "      <td>64895000</td>\n",
       "      <td>148</td>\n",
       "      <td>187</td>\n",
       "      <td>11</td>\n",
       "      <td>11</td>\n",
       "      <td>12</td>\n",
       "    </tr>\n",
       "  </tbody>\n",
       "</table>\n",
       "</div>"
      ],
      "text/plain": [
       "  ISO country code Country name      2011 GDP  2010 population  Female count  \\\n",
       "0              USA           US  1.509400e+13        309349000           271   \n",
       "1              CHN        China  7.298100e+12       1338300000           208   \n",
       "2              JPN        Japan  5.867150e+12        127451000           162   \n",
       "3              DEU      Germany  3.570560e+12         81777000           176   \n",
       "4              FRA       France  2.773030e+12         64895000           148   \n",
       "\n",
       "   Male count  Gold medals  Silver medals  Bronze medals  \n",
       "0         260           46             29             29  \n",
       "1         163           38             27             23  \n",
       "2         141            7             14             17  \n",
       "3         219           11             19             14  \n",
       "4         187           11             11             12  "
      ]
     },
     "execution_count": 5,
     "metadata": {},
     "output_type": "execute_result"
    }
   ],
   "source": [
    "df_olympic.head()"
   ]
  },
  {
   "cell_type": "markdown",
   "id": "cec3a92b",
   "metadata": {},
   "source": [
    "# What can you say about the relationship between a country’s population and the number of medals it wins?\n",
    "#### with a correlation of 0.371 we can infer that there is a weak positive correlation between a countrys population and the total number of medals."
   ]
  },
  {
   "cell_type": "code",
   "execution_count": 7,
   "id": "86cdacd9",
   "metadata": {},
   "outputs": [
    {
     "name": "stdout",
     "output_type": "stream",
     "text": [
      "2010 population    int64\n",
      "Gold medals        int64\n",
      "Silver medals      int64\n",
      "Bronze medals      int64\n",
      "dtype: object\n"
     ]
    }
   ],
   "source": [
    "print(df_olympic[['2010 population', 'Gold medals', 'Silver medals', 'Bronze medals']].dtypes)"
   ]
  },
  {
   "cell_type": "code",
   "execution_count": 8,
   "id": "48642bf7",
   "metadata": {},
   "outputs": [],
   "source": [
    "df_olympic['Total medals'] = df_olympic['Gold medals'] + df_olympic['Silver medals'] + df_olympic['Bronze medals']\n"
   ]
  },
  {
   "cell_type": "code",
   "execution_count": 9,
   "id": "38b54c9d",
   "metadata": {},
   "outputs": [
    {
     "name": "stdout",
     "output_type": "stream",
     "text": [
      "Correlation between 2010 population and Total medals is 0.3711325471091671\n"
     ]
    }
   ],
   "source": [
    "correlation = df_olympic['2010 population'].corr(df_olympic['Total medals'])\n",
    "print(\"Correlation between 2010 population and Total medals is\", correlation)\n"
   ]
  },
  {
   "cell_type": "code",
   "execution_count": 10,
   "id": "89bbf0e3",
   "metadata": {},
   "outputs": [
    {
     "data": {
      "image/png": "[encoded data removed]",
      "text/plain": [
       "<Figure size 1000x600 with 1 Axes>"
      ]
     },
     "metadata": {},
     "output_type": "display_data"
    }
   ],
   "source": [
    "plt.figure(figsize=(10, 6))\n",
    "sns.scatterplot(data=df_olympic, x='2010 population', y='Total medals')\n",
    "plt.title('Relationship between 2010 Population and Total Medals')\n",
    "plt.show()\n"
   ]
  },
  {
   "cell_type": "markdown",
   "id": "d28923a4",
   "metadata": {},
   "source": [
    "## what can you say about the relationship between the ratio of female and male counts and the GDP of that country?\n",
    "##### we calc the correlation and between 2011 GDP and Female to male and we get 0.3933. we can say that the relationship suggests a weak to moderate positive correlation. that means as the ratio of females to males increases the GDP of a country also tends to increadse but the relationship is not very strong."
   ]
  },
  {
   "cell_type": "code",
   "execution_count": 11,
   "id": "31d89425",
   "metadata": {},
   "outputs": [
    {
     "data": {
      "image/png": "[encoded data removed]",
      "text/plain": [
       "<Figure size 640x480 with 1 Axes>"
      ]
     },
     "metadata": {},
     "output_type": "display_data"
    }
   ],
   "source": [
    "df_olympic['female_to_male_ratio'] = df_olympic['Female count'] / df_olympic['Male count']\n",
    "\n",
    "plt.scatter(df_olympic['female_to_male_ratio'], df_olympic['2011 GDP'])\n",
    "plt.xlabel('Ratio of female to male counts')\n",
    "plt.ylabel('GDP')\n",
    "plt.title('Relationship between female to male ratio and GDP')\n",
    "\n",
    "plt.show()\n"
   ]
  },
  {
   "cell_type": "code",
   "execution_count": 13,
   "id": "615c765c",
   "metadata": {},
   "outputs": [
    {
     "name": "stdout",
     "output_type": "stream",
     "text": [
      "Correlation between 2011 GDP and Female to Male Ratio is 0.3933453772866947\n"
     ]
    }
   ],
   "source": [
    "corr = df_olympic['2010 population'].corr(df_olympic['Gold medals'])\n",
    "print(\"Correlation between 2011 GDP and Female to Male Ratio is\", corr)\n",
    "\n"
   ]
  },
  {
   "cell_type": "code",
   "execution_count": null,
   "id": "0971b881",
   "metadata": {},
   "outputs": [],
   "source": []
  },
  {
   "cell_type": "code",
   "execution_count": null,
   "id": "682cbcde",
   "metadata": {},
   "outputs": [],
   "source": []
  }
 ],
 "metadata": {
  "kernelspec": {
   "display_name": "Python 3 (ipykernel)",
   "language": "python",
   "name": "python3"
  },
  "language_info": {
   "codemirror_mode": {
    "name": "ipython",
    "version": 3
   },
   "file_extension": ".py",
   "mimetype": "text/x-python",
   "name": "python",
   "nbconvert_exporter": "python",
   "pygments_lexer": "ipython3",
   "version": "3.9.13"
  }
 },
 "nbformat": 4,
 "nbformat_minor": 5
}
